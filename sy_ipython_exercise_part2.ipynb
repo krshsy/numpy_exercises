{
 "metadata": {
  "name": ""
 },
 "nbformat": 3,
 "nbformat_minor": 0,
 "worksheets": [
  {
   "cells": [
    {
     "cell_type": "heading",
     "level": 1,
     "metadata": {},
     "source": [
      "IPython, Part 2"
     ]
    },
    {
     "cell_type": "markdown",
     "metadata": {},
     "source": [
      "Part 2.1  Using the Command History\n",
      "\n",
      "1.  IPython maintains a small on-disk database containing the text of each command that you execute.  What purposes does it serve?\n",
      "2.  Searching and reusing the command history:  what keyboard shortcut should you use when searching a previous-executed command?"
     ]
    },
    {
     "cell_type": "markdown",
     "metadata": {},
     "source": [
      "Answer\n",
      "1. The small on-disk database serves as the storage of the commands.\n",
      "2. You can reuse previous commands by using the up and down arrow keys or CTRL-P and CTRL-N. Hitting CTRL-R will open a search prompt."
     ]
    },
    {
     "cell_type": "markdown",
     "metadata": {},
     "source": [
      "Part 2.2  Input and Output Variables Using \\_ (one underscore) and __ (two underscores) Variables\n",
      "\n",
      "3.  Illustrate how to use \\_, __, _iX (where x is the input cell number)."
     ]
    },
    {
     "cell_type": "markdown",
     "metadata": {},
     "source": [
      "Answer\n",
      "1. _i, _ii, _iii store previous, next previous and next-next previous inputs."
     ]
    },
    {
     "cell_type": "markdown",
     "metadata": {},
     "source": [
      "Part 2.3  Logging the Input and Output\n",
      "\n",
      "1.  IPython is capable of logging the entire console session including input and output.  Good news:  IPython logging can be enabled at any time and it will record your entire session (including previous commands).  Thus, if you are working on something and you decide you want to save everything you did, you can simply enable logging.  How do you turn on logging?"
     ]
    },
    {
     "cell_type": "markdown",
     "metadata": {},
     "source": [
      "Answer\n",
      "1. %logstart"
     ]
    },
    {
     "cell_type": "markdown",
     "metadata": {},
     "source": [
      "Part 2.3:  Interacting with the Operating System\n",
      "\n",
      "IPython also provides very strong integration with the operating system shell.  This means, among other things, that you can perform most standard command line actions as you would in the Windows or Unix (Linux, OS X) shell without having to exit IPython.  What is the IPython system-related command for each of the following? (note: the keyword is IPython-specific command)\n",
      "\n",
      "1.  Execute cmd in the system shell\n",
      "2.  Run cmd and store the stdout in 'output' (object or file)\n",
      "3.  Utilize IPython's directory bookmarking system\n",
      "4.  Change working directory\n",
      "5.  Return the current working directory\n",
      "6.  Print the history of visited directories\n",
      "7.  Return the system environment variables as a dict"
     ]
    },
    {
     "cell_type": "markdown",
     "metadata": {},
     "source": [
      "Answer\n",
      "1. %alias alias_name cmd\n",
      "2. %run\n",
      "3. examples/lib\n",
      "4. %cd\n",
      "5. os.getcwd()\n",
      "6. %dhist\n",
      "7. IPYTHONDIR"
     ]
    },
    {
     "cell_type": "markdown",
     "metadata": {},
     "source": [
      "Part 2.4:  Shell Commands and Aliases\n",
      "\n",
      "Starting a line in IPython with an exclamation point !, or bang, tells IPython to execute everything after the bang in the system shell.  It's even possible to start processes that take control away from IPython, even another Python interpreter.  Input: !python to have a python interpret environment inside the ipython console.\n",
      "\n",
      "1.  The console output of a shell command can be stored in a variable by assigning the !-escaped expressions to a variables.  Get your IP address and store it in a Python variable 'my_ip_info'.  (Hint: the linux command to use is ifconfig; the IP address is most likely found in the eth0, use redirection and grep for 'inet')."
     ]
    },
    {
     "cell_type": "markdown",
     "metadata": {},
     "source": [
      "1. ipcontroller --ip=*"
     ]
    },
    {
     "cell_type": "markdown",
     "metadata": {},
     "source": [
      "Part 2.5:  Directory Bookmark System\n",
      "\n",
      "IPython has a simple directory bookmarking system to enable you to save aliases for common directories so that you can jump around very easily.\n",
      "\n",
      "1.  choose a directory in your system and bookmark it.\n",
      "2.  What is the difference between %bookmark and %alias (in terms of persistence)?"
     ]
    },
    {
     "cell_type": "markdown",
     "metadata": {},
     "source": [
      "Answer\n",
      "1.\n",
      "2. %bookmark manages ipython's bookmark system while %alias defines an alias for a system command."
     ]
    },
    {
     "cell_type": "heading",
     "level": 2,
     "metadata": {},
     "source": [
      "Software Development Tools"
     ]
    },
    {
     "cell_type": "markdown",
     "metadata": {},
     "source": [
      "In addition to being a comfortable environment for interactive computing and data exploration, IPython is well suited as a software development environment.\n",
      "\n",
      "1.  In data analysis applications, it's important first to have correc code --> IPython has closely integrated and enhanced the built-in Python pdf debugger.\n",
      "\n",
      "2.  You want your code to be fast -->  IPython has easy-to-use code timing and profiling tools.\n"
     ]
    },
    {
     "cell_type": "markdown",
     "metadata": {},
     "source": [
      "Part 2.6  Interactive Debugger\n",
      "\n",
      "IPython's debugger enhances pdb with tab completion, syntax highlighting, and context for each line in exception tracebacks.  One of the best times to debug code is right after an error has occured.  The %debug command, when entered immediately after an exception, invokes the 'post-mortem' debugger and drops you into the stack frame where the exception was raised.\n",
      "\n",
      "1.  Using the code in IPython Exercise Part 1 (ipython_bug.py), run it again and then invoke %debug.  What do you see?\n",
      "2.  Once inside the debugger, you can execute arbitrary Python code and explore all of the objects and data (which have been 'kept alive' by the interpreter) inside each stack frame.  By default, you start in the lowest level, where the error occurred.  By pressing u (up) and d (down), you can switch between the levels of the stack trace.  \n",
      "3.  It's also easy to use the debugger to help develop code.  Use %run with the -d flag, which invokes the debugger before executing any code in the passed script.  You must immediately press s (step) to enter the script.  "
     ]
    },
    {
     "cell_type": "code",
     "collapsed": false,
     "input": [
      "%run ipython_bug.py"
     ],
     "language": "python",
     "metadata": {},
     "outputs": [
      {
       "output_type": "stream",
       "stream": "stderr",
       "text": [
        "ERROR: File `u'ipython_bug.py'` not found.\n"
       ]
      }
     ],
     "prompt_number": 1
    },
    {
     "cell_type": "code",
     "collapsed": false,
     "input": [
      "%debug\n"
     ],
     "language": "python",
     "metadata": {},
     "outputs": [
      {
       "output_type": "stream",
       "stream": "stdout",
       "text": [
        "> \u001b[0;32m/home/user1/Downloads/ipython_bug.py\u001b[0m(11)\u001b[0;36mthrows_an_exception\u001b[0;34m()\u001b[0m\n",
        "\u001b[0;32m     10 \u001b[0;31m   \u001b[0mb\u001b[0m \u001b[0;34m=\u001b[0m \u001b[0;36m6\u001b[0m\u001b[0;34m\u001b[0m\u001b[0m\n",
        "\u001b[0m\u001b[0;32m---> 11 \u001b[0;31m   \u001b[0;32massert\u001b[0m\u001b[0;34m(\u001b[0m\u001b[0ma\u001b[0m \u001b[0;34m+\u001b[0m \u001b[0mb\u001b[0m \u001b[0;34m==\u001b[0m \u001b[0;36m10\u001b[0m\u001b[0;34m)\u001b[0m\u001b[0;34m\u001b[0m\u001b[0m\n",
        "\u001b[0m\u001b[0;32m     12 \u001b[0;31m\u001b[0;34m\u001b[0m\u001b[0m\n",
        "\u001b[0m\n"
       ]
      },
      {
       "name": "stdout",
       "output_type": "stream",
       "stream": "stdout",
       "text": [
        "ipdb> u\n"
       ]
      },
      {
       "output_type": "stream",
       "stream": "stdout",
       "text": [
        "> \u001b[0;32m/home/user1/Downloads/ipython_bug.py\u001b[0m(15)\u001b[0;36mcalling_things\u001b[0;34m()\u001b[0m\n",
        "\u001b[0;32m     14 \u001b[0;31m   \u001b[0mworks_fine\u001b[0m\u001b[0;34m(\u001b[0m\u001b[0;34m)\u001b[0m\u001b[0;34m\u001b[0m\u001b[0m\n",
        "\u001b[0m\u001b[0;32m---> 15 \u001b[0;31m   \u001b[0mthrows_an_exception\u001b[0m\u001b[0;34m(\u001b[0m\u001b[0;34m)\u001b[0m\u001b[0;34m\u001b[0m\u001b[0m\n",
        "\u001b[0m\u001b[0;32m     16 \u001b[0;31m\u001b[0;34m\u001b[0m\u001b[0m\n",
        "\u001b[0m\n"
       ]
      },
      {
       "name": "stdout",
       "output_type": "stream",
       "stream": "stdout",
       "text": [
        "ipdb> u\n"
       ]
      },
      {
       "output_type": "stream",
       "stream": "stdout",
       "text": [
        "> \u001b[0;32m/home/user1/Downloads/ipython_bug.py\u001b[0m(17)\u001b[0;36m<module>\u001b[0;34m()\u001b[0m\n",
        "\u001b[0;32m     16 \u001b[0;31m\u001b[0;34m\u001b[0m\u001b[0m\n",
        "\u001b[0m\u001b[0;32m---> 17 \u001b[0;31m\u001b[0mcalling_things\u001b[0m\u001b[0;34m(\u001b[0m\u001b[0;34m)\u001b[0m\u001b[0;34m\u001b[0m\u001b[0m\n",
        "\u001b[0m\u001b[0;32m     18 \u001b[0;31m\u001b[0;34m\u001b[0m\u001b[0m\n",
        "\u001b[0m\n"
       ]
      },
      {
       "name": "stdout",
       "output_type": "stream",
       "stream": "stdout",
       "text": [
        "ipdb> u\n"
       ]
      },
      {
       "output_type": "stream",
       "stream": "stdout",
       "text": [
        "> \u001b[0;32m/usr/lib/python2.7/dist-packages/IPython/utils/py3compat.py\u001b[0m(204)\u001b[0;36mexecfile\u001b[0;34m()\u001b[0m\n",
        "\u001b[0;32m    202 \u001b[0;31m            \u001b[0;32melse\u001b[0m\u001b[0;34m:\u001b[0m\u001b[0;34m\u001b[0m\u001b[0m\n",
        "\u001b[0m\u001b[0;32m    203 \u001b[0;31m                \u001b[0mfilename\u001b[0m \u001b[0;34m=\u001b[0m \u001b[0mfname\u001b[0m\u001b[0;34m\u001b[0m\u001b[0m\n",
        "\u001b[0m\u001b[0;32m--> 204 \u001b[0;31m            \u001b[0m__builtin__\u001b[0m\u001b[0;34m.\u001b[0m\u001b[0mexecfile\u001b[0m\u001b[0;34m(\u001b[0m\u001b[0mfilename\u001b[0m\u001b[0;34m,\u001b[0m \u001b[0;34m*\u001b[0m\u001b[0mwhere\u001b[0m\u001b[0;34m)\u001b[0m\u001b[0;34m\u001b[0m\u001b[0m\n",
        "\u001b[0m\n"
       ]
      },
      {
       "name": "stdout",
       "output_type": "stream",
       "stream": "stdout",
       "text": [
        "ipdb> u\n"
       ]
      },
      {
       "output_type": "stream",
       "stream": "stdout",
       "text": [
        "*** Oldest frame\n"
       ]
      },
      {
       "name": "stdout",
       "output_type": "stream",
       "stream": "stdout",
       "text": [
        "ipdb> d\n"
       ]
      },
      {
       "output_type": "stream",
       "stream": "stdout",
       "text": [
        "> \u001b[0;32m/home/user1/Downloads/ipython_bug.py\u001b[0m(17)\u001b[0;36m<module>\u001b[0;34m()\u001b[0m\n",
        "\u001b[0;32m     16 \u001b[0;31m\u001b[0;34m\u001b[0m\u001b[0m\n",
        "\u001b[0m\u001b[0;32m---> 17 \u001b[0;31m\u001b[0mcalling_things\u001b[0m\u001b[0;34m(\u001b[0m\u001b[0;34m)\u001b[0m\u001b[0;34m\u001b[0m\u001b[0m\n",
        "\u001b[0m\u001b[0;32m     18 \u001b[0;31m\u001b[0;34m\u001b[0m\u001b[0m\n",
        "\u001b[0m\n"
       ]
      },
      {
       "name": "stdout",
       "output_type": "stream",
       "stream": "stdout",
       "text": [
        "ipdb> d\n"
       ]
      },
      {
       "output_type": "stream",
       "stream": "stdout",
       "text": [
        "> \u001b[0;32m/home/user1/Downloads/ipython_bug.py\u001b[0m(15)\u001b[0;36mcalling_things\u001b[0;34m()\u001b[0m\n",
        "\u001b[0;32m     14 \u001b[0;31m   \u001b[0mworks_fine\u001b[0m\u001b[0;34m(\u001b[0m\u001b[0;34m)\u001b[0m\u001b[0;34m\u001b[0m\u001b[0m\n",
        "\u001b[0m\u001b[0;32m---> 15 \u001b[0;31m   \u001b[0mthrows_an_exception\u001b[0m\u001b[0;34m(\u001b[0m\u001b[0;34m)\u001b[0m\u001b[0;34m\u001b[0m\u001b[0m\n",
        "\u001b[0m\u001b[0;32m     16 \u001b[0;31m\u001b[0;34m\u001b[0m\u001b[0m\n",
        "\u001b[0m\n"
       ]
      },
      {
       "name": "stdout",
       "output_type": "stream",
       "stream": "stdout",
       "text": [
        "ipdb> d\n"
       ]
      },
      {
       "output_type": "stream",
       "stream": "stdout",
       "text": [
        "> \u001b[0;32m/home/user1/Downloads/ipython_bug.py\u001b[0m(11)\u001b[0;36mthrows_an_exception\u001b[0;34m()\u001b[0m\n",
        "\u001b[0;32m     10 \u001b[0;31m   \u001b[0mb\u001b[0m \u001b[0;34m=\u001b[0m \u001b[0;36m6\u001b[0m\u001b[0;34m\u001b[0m\u001b[0m\n",
        "\u001b[0m\u001b[0;32m---> 11 \u001b[0;31m   \u001b[0;32massert\u001b[0m\u001b[0;34m(\u001b[0m\u001b[0ma\u001b[0m \u001b[0;34m+\u001b[0m \u001b[0mb\u001b[0m \u001b[0;34m==\u001b[0m \u001b[0;36m10\u001b[0m\u001b[0;34m)\u001b[0m\u001b[0;34m\u001b[0m\u001b[0m\n",
        "\u001b[0m\u001b[0;32m     12 \u001b[0;31m\u001b[0;34m\u001b[0m\u001b[0m\n",
        "\u001b[0m\n"
       ]
      }
     ],
     "prompt_number": "*"
    },
    {
     "cell_type": "markdown",
     "metadata": {},
     "source": [
      "Part 2.7  Timing Code: %time and %timeit.\n",
      "\n",
      "1.  Illustrate how to use %time and %timeit in IPython.  Prepare your own sample code."
     ]
    },
    {
     "cell_type": "code",
     "collapsed": false,
     "input": [
      "# A very large list of strings\n",
      "\n",
      "strings = ['foo', 'foobar', 'baz', 'qux', 'python', 'Guido Van Rossum'] * 1000000\n",
      "\n",
      "method1 = [x for x in strings if x.startswith('foo')]\n",
      "\n",
      "method2 = [x for x in strings if x[:3] == 'foo']"
     ],
     "language": "python",
     "metadata": {},
     "outputs": [],
     "prompt_number": "*"
    },
    {
     "cell_type": "code",
     "collapsed": false,
     "input": [
      "%time method1"
     ],
     "language": "python",
     "metadata": {},
     "outputs": [],
     "prompt_number": "*"
    },
    {
     "cell_type": "code",
     "collapsed": false,
     "input": [
      "%time method2"
     ],
     "language": "python",
     "metadata": {},
     "outputs": []
    },
    {
     "cell_type": "code",
     "collapsed": false,
     "input": [
      "%timeit method1"
     ],
     "language": "python",
     "metadata": {},
     "outputs": []
    },
    {
     "cell_type": "code",
     "collapsed": false,
     "input": [
      "%timeit method2"
     ],
     "language": "python",
     "metadata": {},
     "outputs": []
    },
    {
     "cell_type": "markdown",
     "metadata": {},
     "source": [
      "Part 2.8  Basic Profiling: %prun and %run -p\n",
      "\n",
      "Profiling code is closely related to timing code, except it is concerned with determining where time is spent.  The main Python profiling tool is the cProfile module, which is not specific to IPython.  cProfile executes a program on any arbitrary block of code while keeping track of how much time is spent in each function."
     ]
    },
    {
     "cell_type": "markdown",
     "metadata": {},
     "source": [
      "Create a simple script which does some linear algebra in a loop (computing the maximum absolute eigenvalues of a series of 100 x 100 matrices), and call it cprof_example.py:"
     ]
    },
    {
     "cell_type": "code",
     "collapsed": false,
     "input": [
      "# cprof_example.py\n",
      "\n",
      "import numpy as np\n",
      "from numpy.linalg import eigvals\n",
      "\n",
      "def run_experiment(niter=100):\n",
      "    Y = 100\n",
      "    results = []\n",
      "    \n",
      "    for _ in xrange(niter):\n",
      "        mat = np.random.randn(Y, Y)\n",
      "        max_eigenvalue = np.abs(eigvals(mat)).max()\n",
      "        results.append(max_eigenvalue)\n",
      "    return results\n",
      "\n",
      "some_results = run_experiment()\n",
      "print 'Largest one we saw: %s' % np.max(some_results)"
     ],
     "language": "python",
     "metadata": {},
     "outputs": [],
     "prompt_number": "*"
    },
    {
     "cell_type": "code",
     "collapsed": false,
     "input": [
      "# If it were in a typical linux environment, and not in the IPython environment.\n",
      "# You can still invoke the typical Python interpreter within IPython using '!'.\n",
      "python -m cProfile cprof_example.py"
     ],
     "language": "python",
     "metadata": {},
     "outputs": [],
     "prompt_number": "*"
    },
    {
     "cell_type": "code",
     "collapsed": false,
     "input": [
      "# You can specify a sort order using the -s flag\n",
      "python -m cProfile -s cumulative cprof_example.py"
     ],
     "language": "python",
     "metadata": {},
     "outputs": []
    },
    {
     "cell_type": "code",
     "collapsed": false,
     "input": [
      "%prun -l some_number -s cumulative run_experiment()"
     ],
     "language": "python",
     "metadata": {},
     "outputs": [],
     "prompt_number": "*"
    },
    {
     "cell_type": "code",
     "collapsed": false,
     "input": [
      "%prun -p -s cumulative cprof_example.py"
     ],
     "language": "python",
     "metadata": {},
     "outputs": [],
     "prompt_number": "*"
    }
   ],
   "metadata": {}
  }
 ]
}